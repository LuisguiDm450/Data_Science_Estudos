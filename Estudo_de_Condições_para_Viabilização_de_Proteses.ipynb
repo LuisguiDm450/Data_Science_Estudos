{
  "nbformat": 4,
  "nbformat_minor": 0,
  "metadata": {
    "colab": {
      "name": "Estudo_de_Condições_para_Viabilização_de_Proteses.ipynb",
      "provenance": [],
      "collapsed_sections": [],
      "include_colab_link": true
    },
    "kernelspec": {
      "name": "python3",
      "display_name": "Python 3"
    },
    "language_info": {
      "name": "python"
    }
  },
  "cells": [
    {
      "cell_type": "markdown",
      "metadata": {
        "id": "view-in-github",
        "colab_type": "text"
      },
      "source": [
        "<a href=\"https://colab.research.google.com/github/LuisguiDm450/Data_Science_Estudos/blob/main/Estudo_de_Condi%C3%A7%C3%B5es_para_Viabiliza%C3%A7%C3%A3o_de_Proteses.ipynb\" target=\"_parent\"><img src=\"https://colab.research.google.com/assets/colab-badge.svg\" alt=\"Open In Colab\"/></a>"
      ]
    },
    {
      "cell_type": "markdown",
      "metadata": {
        "id": "Q_-hJmW81dEq"
      },
      "source": [
        "## Estudo de condições especificas relatadas em hospital e sua possível viabilização do uso de próteses."
      ]
    },
    {
      "cell_type": "markdown",
      "metadata": {
        "id": "7FZ1WPbcnKu-"
      },
      "source": [
        "Este estudo faz parte de uma tese de pós-graduação de Biomecânica e é uma parceria entre a professora de Educação Física Barbara Livia dos Santos e eu, Luis Guilherme Chipoletti Esteves, como Analista de Dados."
      ]
    },
    {
      "cell_type": "markdown",
      "metadata": {
        "id": "tqPqkbK94xpC"
      },
      "source": [
        "### Objetivo"
      ]
    },
    {
      "cell_type": "markdown",
      "metadata": {
        "id": "XnZ3-7B04V-1"
      },
      "source": [
        "Este projeto tem o intuito de comparar as condições em que cada pessoa tem ao precisar ser atendida em um hospital, mais especificamente as a condição em que possivelmente será necessário a utilização de prótese, e também realizar a verificação das possíveis quantidades de casos onde seja necessário que o indivíduo possa vir utilizar algum produto de apoio ou completa utilização de uma prótese para suplementar uma função de seu corpo, por ter perdido em ocorrências externas.\n",
        "\n"
      ]
    },
    {
      "cell_type": "markdown",
      "metadata": {
        "id": "VKvsVcEo6cDM"
      },
      "source": [
        "##Observação importante --\n",
        "\n",
        " o levantamento de dados presente neste estudo faz parte de um projeto que encontra-se em andamento, e que pode sofrer mudanças e atualizações. Enfatiza-se  também que serão implementados novos dados importantes para o futuro."
      ]
    },
    {
      "cell_type": "markdown",
      "metadata": {
        "id": "K7kXowx37_ib"
      },
      "source": [
        "## Obtenção dos Dados"
      ]
    },
    {
      "cell_type": "markdown",
      "metadata": {
        "id": "DwNkb0038aUB"
      },
      "source": [
        "Os dados utilizados nessa análise foram obtidos a partir do site Kaggle.com"
      ]
    },
    {
      "cell_type": "code",
      "metadata": {
        "id": "jK6tJ_ffFqQu"
      },
      "source": [
        "# importando as bibliotecas.\n",
        "\n",
        "import pandas as pd"
      ],
      "execution_count": null,
      "outputs": []
    },
    {
      "cell_type": "code",
      "metadata": {
        "colab": {
          "resources": {
            "http://localhost:8080/nbextensions/google.colab/files.js": {
              "data": "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",
              "ok": true,
              "headers": [
                [
                  "content-type",
                  "application/javascript"
                ]
              ],
              "status": 200,
              "status_text": "OK"
            }
          },
          "base_uri": "https://localhost:8080/",
          "height": 75
        },
        "id": "x3_i4-FzGBd-",
        "outputId": "ad9944b2-0ba4-4509-b8dc-ae5f5c2ba00b"
      },
      "source": [
        "from google.colab import files\n",
        "uploaded = files.upload()"
      ],
      "execution_count": null,
      "outputs": [
        {
          "output_type": "display_data",
          "data": {
            "text/html": [
              "\n",
              "     <input type=\"file\" id=\"files-86f17f04-70e8-4f19-8b32-186f156a31c4\" name=\"files[]\" multiple disabled\n",
              "        style=\"border:none\" />\n",
              "     <output id=\"result-86f17f04-70e8-4f19-8b32-186f156a31c4\">\n",
              "      Upload widget is only available when the cell has been executed in the\n",
              "      current browser session. Please rerun this cell to enable.\n",
              "      </output>\n",
              "      <script src=\"/nbextensions/google.colab/files.js\"></script> "
            ],
            "text/plain": [
              "<IPython.core.display.HTML object>"
            ]
          },
          "metadata": {}
        },
        {
          "output_type": "stream",
          "name": "stdout",
          "text": [
            "Saving hospital-charges.csv to hospital-charges.csv\n"
          ]
        }
      ]
    },
    {
      "cell_type": "code",
      "metadata": {
        "id": "7k6ChCc3FrfO"
      },
      "source": [
        "df = pd.read_csv('hospital-charges.csv', error_bad_lines=False)"
      ],
      "execution_count": null,
      "outputs": []
    },
    {
      "cell_type": "code",
      "metadata": {
        "colab": {
          "base_uri": "https://localhost:8080/",
          "height": 519
        },
        "id": "c4uGIb6sGU4s",
        "outputId": "4542dc05-8e2a-49e4-cde8-e4f9eb6e55eb"
      },
      "source": [
        "# Verificando as primeiras linhas do dataset.\n",
        "\n",
        "df.head()"
      ],
      "execution_count": null,
      "outputs": [
        {
          "output_type": "execute_result",
          "data": {
            "text/html": [
              "<div>\n",
              "<style scoped>\n",
              "    .dataframe tbody tr th:only-of-type {\n",
              "        vertical-align: middle;\n",
              "    }\n",
              "\n",
              "    .dataframe tbody tr th {\n",
              "        vertical-align: top;\n",
              "    }\n",
              "\n",
              "    .dataframe thead th {\n",
              "        text-align: right;\n",
              "    }\n",
              "</style>\n",
              "<table border=\"1\" class=\"dataframe\">\n",
              "  <thead>\n",
              "    <tr style=\"text-align: right;\">\n",
              "      <th></th>\n",
              "      <th>DRG Definition</th>\n",
              "      <th>Provider Id</th>\n",
              "      <th>Provider Name</th>\n",
              "      <th>Provider Street Address</th>\n",
              "      <th>Provider City</th>\n",
              "      <th>Provider State</th>\n",
              "      <th>Provider Zip Code</th>\n",
              "      <th>Hospital Referral Region Description</th>\n",
              "      <th>Total Discharges</th>\n",
              "      <th>Average Covered Charges</th>\n",
              "      <th>Average Total Payments</th>\n",
              "      <th>Average Medicare Payments</th>\n",
              "    </tr>\n",
              "  </thead>\n",
              "  <tbody>\n",
              "    <tr>\n",
              "      <th>0</th>\n",
              "      <td>039 - EXTRACRANIAL PROCEDURES W/O CC/MCC</td>\n",
              "      <td>10001</td>\n",
              "      <td>SOUTHEAST ALABAMA MEDICAL CENTER</td>\n",
              "      <td>1108 ROSS CLARK CIRCLE</td>\n",
              "      <td>DOTHAN</td>\n",
              "      <td>AL</td>\n",
              "      <td>36301</td>\n",
              "      <td>AL - Dothan</td>\n",
              "      <td>91</td>\n",
              "      <td>$32963.07</td>\n",
              "      <td>$5777.24</td>\n",
              "      <td>$4763.73</td>\n",
              "    </tr>\n",
              "    <tr>\n",
              "      <th>1</th>\n",
              "      <td>039 - EXTRACRANIAL PROCEDURES W/O CC/MCC</td>\n",
              "      <td>10005</td>\n",
              "      <td>MARSHALL MEDICAL CENTER SOUTH</td>\n",
              "      <td>2505 U S HIGHWAY 431 NORTH</td>\n",
              "      <td>BOAZ</td>\n",
              "      <td>AL</td>\n",
              "      <td>35957</td>\n",
              "      <td>AL - Birmingham</td>\n",
              "      <td>14</td>\n",
              "      <td>$15131.85</td>\n",
              "      <td>$5787.57</td>\n",
              "      <td>$4976.71</td>\n",
              "    </tr>\n",
              "    <tr>\n",
              "      <th>2</th>\n",
              "      <td>039 - EXTRACRANIAL PROCEDURES W/O CC/MCC</td>\n",
              "      <td>10006</td>\n",
              "      <td>ELIZA COFFEE MEMORIAL HOSPITAL</td>\n",
              "      <td>205 MARENGO STREET</td>\n",
              "      <td>FLORENCE</td>\n",
              "      <td>AL</td>\n",
              "      <td>35631</td>\n",
              "      <td>AL - Birmingham</td>\n",
              "      <td>24</td>\n",
              "      <td>$37560.37</td>\n",
              "      <td>$5434.95</td>\n",
              "      <td>$4453.79</td>\n",
              "    </tr>\n",
              "    <tr>\n",
              "      <th>3</th>\n",
              "      <td>039 - EXTRACRANIAL PROCEDURES W/O CC/MCC</td>\n",
              "      <td>10011</td>\n",
              "      <td>ST VINCENT'S EAST</td>\n",
              "      <td>50 MEDICAL PARK EAST DRIVE</td>\n",
              "      <td>BIRMINGHAM</td>\n",
              "      <td>AL</td>\n",
              "      <td>35235</td>\n",
              "      <td>AL - Birmingham</td>\n",
              "      <td>25</td>\n",
              "      <td>$13998.28</td>\n",
              "      <td>$5417.56</td>\n",
              "      <td>$4129.16</td>\n",
              "    </tr>\n",
              "    <tr>\n",
              "      <th>4</th>\n",
              "      <td>039 - EXTRACRANIAL PROCEDURES W/O CC/MCC</td>\n",
              "      <td>10016</td>\n",
              "      <td>SHELBY BAPTIST MEDICAL CENTER</td>\n",
              "      <td>1000 FIRST STREET NORTH</td>\n",
              "      <td>ALABASTER</td>\n",
              "      <td>AL</td>\n",
              "      <td>35007</td>\n",
              "      <td>AL - Birmingham</td>\n",
              "      <td>18</td>\n",
              "      <td>$31633.27</td>\n",
              "      <td>$5658.33</td>\n",
              "      <td>$4851.44</td>\n",
              "    </tr>\n",
              "  </tbody>\n",
              "</table>\n",
              "</div>"
            ],
            "text/plain": [
              "                             DRG Definition  ...  Average Medicare Payments\n",
              "0  039 - EXTRACRANIAL PROCEDURES W/O CC/MCC  ...                   $4763.73\n",
              "1  039 - EXTRACRANIAL PROCEDURES W/O CC/MCC  ...                   $4976.71\n",
              "2  039 - EXTRACRANIAL PROCEDURES W/O CC/MCC  ...                   $4453.79\n",
              "3  039 - EXTRACRANIAL PROCEDURES W/O CC/MCC  ...                   $4129.16\n",
              "4  039 - EXTRACRANIAL PROCEDURES W/O CC/MCC  ...                   $4851.44\n",
              "\n",
              "[5 rows x 12 columns]"
            ]
          },
          "metadata": {},
          "execution_count": 4
        }
      ]
    },
    {
      "cell_type": "markdown",
      "metadata": {
        "id": "L14Yw-9iLis5"
      },
      "source": [
        " O dataset utilizado para este estudo em específico traz relação de condições, localidade e valores que são cobrados por cada ocorrência, dando ênfase nas cobranças, como é visto pela colunas com valores de gastos, medicamento e valores total."
      ]
    },
    {
      "cell_type": "markdown",
      "metadata": {
        "id": "4L5vGcn6-p7S"
      },
      "source": [
        "\n",
        "Utilizando a função info() para verificar as informações do dataset, como quantidade de linhas, colunas e os tipos de variáveis."
      ]
    },
    {
      "cell_type": "code",
      "metadata": {
        "colab": {
          "base_uri": "https://localhost:8080/"
        },
        "id": "zXSOwVvXp9uY",
        "outputId": "8d9e8d68-be80-4cf5-91e8-1175e8083219"
      },
      "source": [
        "# Verificando as informações dos dados do dataset, linhas e colunas.\n",
        "\n",
        "df.info()"
      ],
      "execution_count": null,
      "outputs": [
        {
          "output_type": "stream",
          "name": "stdout",
          "text": [
            "<class 'pandas.core.frame.DataFrame'>\n",
            "RangeIndex: 163065 entries, 0 to 163064\n",
            "Data columns (total 12 columns):\n",
            " #   Column                                Non-Null Count   Dtype \n",
            "---  ------                                --------------   ----- \n",
            " 0   DRG Definition                        163065 non-null  object\n",
            " 1   Provider Id                           163065 non-null  int64 \n",
            " 2   Provider Name                         163065 non-null  object\n",
            " 3   Provider Street Address               163065 non-null  object\n",
            " 4   Provider City                         163065 non-null  object\n",
            " 5   Provider State                        163065 non-null  object\n",
            " 6   Provider Zip Code                     163065 non-null  int64 \n",
            " 7   Hospital Referral Region Description  163065 non-null  object\n",
            " 8    Total Discharges                     163065 non-null  int64 \n",
            " 9    Average Covered Charges              163065 non-null  object\n",
            " 10   Average Total Payments               163065 non-null  object\n",
            " 11  Average Medicare Payments             163065 non-null  object\n",
            "dtypes: int64(3), object(9)\n",
            "memory usage: 14.9+ MB\n"
          ]
        }
      ]
    },
    {
      "cell_type": "markdown",
      "metadata": {
        "id": "eb33hL0BAHlm"
      },
      "source": [
        "Primeiro vamos verificar se todas as colunas fazer uma varredura nos dados a procura de alguns problemas e realizar possíveis limpezas."
      ]
    },
    {
      "cell_type": "code",
      "metadata": {
        "id": "HbDUikH_5dmD"
      },
      "source": [
        "# algumas colunas não serão importantes para o estudo, portanto irei retira-las do dataset.\n",
        "\n",
        "df.drop(['Provider Id', 'Provider Name', 'Provider Street Address', 'Provider City', 'Provider State','Provider Zip Code', 'Hospital Referral Region Description'],\n",
        "  axis='columns', inplace=True)"
      ],
      "execution_count": null,
      "outputs": []
    },
    {
      "cell_type": "code",
      "metadata": {
        "colab": {
          "base_uri": "https://localhost:8080/",
          "height": 206
        },
        "id": "2UPbW-U97ner",
        "outputId": "40689b54-7043-4abc-cb9e-89fe158b6a76"
      },
      "source": [
        "# Verificando como o dataset ficou\n",
        "\n",
        "df.head()"
      ],
      "execution_count": null,
      "outputs": [
        {
          "output_type": "execute_result",
          "data": {
            "text/html": [
              "<div>\n",
              "<style scoped>\n",
              "    .dataframe tbody tr th:only-of-type {\n",
              "        vertical-align: middle;\n",
              "    }\n",
              "\n",
              "    .dataframe tbody tr th {\n",
              "        vertical-align: top;\n",
              "    }\n",
              "\n",
              "    .dataframe thead th {\n",
              "        text-align: right;\n",
              "    }\n",
              "</style>\n",
              "<table border=\"1\" class=\"dataframe\">\n",
              "  <thead>\n",
              "    <tr style=\"text-align: right;\">\n",
              "      <th></th>\n",
              "      <th>DRG Definition</th>\n",
              "      <th>Total Discharges</th>\n",
              "      <th>Average Covered Charges</th>\n",
              "      <th>Average Total Payments</th>\n",
              "      <th>Average Medicare Payments</th>\n",
              "    </tr>\n",
              "  </thead>\n",
              "  <tbody>\n",
              "    <tr>\n",
              "      <th>0</th>\n",
              "      <td>039 - EXTRACRANIAL PROCEDURES W/O CC/MCC</td>\n",
              "      <td>91</td>\n",
              "      <td>$32963.07</td>\n",
              "      <td>$5777.24</td>\n",
              "      <td>$4763.73</td>\n",
              "    </tr>\n",
              "    <tr>\n",
              "      <th>1</th>\n",
              "      <td>039 - EXTRACRANIAL PROCEDURES W/O CC/MCC</td>\n",
              "      <td>14</td>\n",
              "      <td>$15131.85</td>\n",
              "      <td>$5787.57</td>\n",
              "      <td>$4976.71</td>\n",
              "    </tr>\n",
              "    <tr>\n",
              "      <th>2</th>\n",
              "      <td>039 - EXTRACRANIAL PROCEDURES W/O CC/MCC</td>\n",
              "      <td>24</td>\n",
              "      <td>$37560.37</td>\n",
              "      <td>$5434.95</td>\n",
              "      <td>$4453.79</td>\n",
              "    </tr>\n",
              "    <tr>\n",
              "      <th>3</th>\n",
              "      <td>039 - EXTRACRANIAL PROCEDURES W/O CC/MCC</td>\n",
              "      <td>25</td>\n",
              "      <td>$13998.28</td>\n",
              "      <td>$5417.56</td>\n",
              "      <td>$4129.16</td>\n",
              "    </tr>\n",
              "    <tr>\n",
              "      <th>4</th>\n",
              "      <td>039 - EXTRACRANIAL PROCEDURES W/O CC/MCC</td>\n",
              "      <td>18</td>\n",
              "      <td>$31633.27</td>\n",
              "      <td>$5658.33</td>\n",
              "      <td>$4851.44</td>\n",
              "    </tr>\n",
              "  </tbody>\n",
              "</table>\n",
              "</div>"
            ],
            "text/plain": [
              "                             DRG Definition  ...  Average Medicare Payments\n",
              "0  039 - EXTRACRANIAL PROCEDURES W/O CC/MCC  ...                   $4763.73\n",
              "1  039 - EXTRACRANIAL PROCEDURES W/O CC/MCC  ...                   $4976.71\n",
              "2  039 - EXTRACRANIAL PROCEDURES W/O CC/MCC  ...                   $4453.79\n",
              "3  039 - EXTRACRANIAL PROCEDURES W/O CC/MCC  ...                   $4129.16\n",
              "4  039 - EXTRACRANIAL PROCEDURES W/O CC/MCC  ...                   $4851.44\n",
              "\n",
              "[5 rows x 5 columns]"
            ]
          },
          "metadata": {},
          "execution_count": 7
        }
      ]
    },
    {
      "cell_type": "code",
      "metadata": {
        "id": "p8e63EJV5X5Z"
      },
      "source": [
        "# Renomear as colunas\n",
        "\n",
        "renomear_colunas = {\n",
        "    'DRG Definition' : 'Ocorrencias',\n",
        "    ' Total Discharges ' : 'Total_de_casos',\n",
        "    ' Average Covered Charges ' : 'Encargos_medicos',\n",
        "    ' Average Total Payments ' : 'Total_de_pagamento',\n",
        "    'Average Medicare Payments' : 'Total_sobre_medicacao'\n",
        "}\n",
        "\n",
        "df = df.rename(columns=renomear_colunas)"
      ],
      "execution_count": null,
      "outputs": []
    },
    {
      "cell_type": "code",
      "metadata": {
        "colab": {
          "base_uri": "https://localhost:8080/",
          "height": 206
        },
        "id": "z7Y35Fmp9IbU",
        "outputId": "3d29c87b-315c-4a45-ccaf-b2deb72c55aa"
      },
      "source": [
        "df.head()"
      ],
      "execution_count": null,
      "outputs": [
        {
          "output_type": "execute_result",
          "data": {
            "text/html": [
              "<div>\n",
              "<style scoped>\n",
              "    .dataframe tbody tr th:only-of-type {\n",
              "        vertical-align: middle;\n",
              "    }\n",
              "\n",
              "    .dataframe tbody tr th {\n",
              "        vertical-align: top;\n",
              "    }\n",
              "\n",
              "    .dataframe thead th {\n",
              "        text-align: right;\n",
              "    }\n",
              "</style>\n",
              "<table border=\"1\" class=\"dataframe\">\n",
              "  <thead>\n",
              "    <tr style=\"text-align: right;\">\n",
              "      <th></th>\n",
              "      <th>Ocorrencias</th>\n",
              "      <th>Total_de_casos</th>\n",
              "      <th>Encargos_medicos</th>\n",
              "      <th>Total_de_pagamento</th>\n",
              "      <th>Total_sobre_medicacao</th>\n",
              "    </tr>\n",
              "  </thead>\n",
              "  <tbody>\n",
              "    <tr>\n",
              "      <th>0</th>\n",
              "      <td>039 - EXTRACRANIAL PROCEDURES W/O CC/MCC</td>\n",
              "      <td>91</td>\n",
              "      <td>$32963.07</td>\n",
              "      <td>$5777.24</td>\n",
              "      <td>$4763.73</td>\n",
              "    </tr>\n",
              "    <tr>\n",
              "      <th>1</th>\n",
              "      <td>039 - EXTRACRANIAL PROCEDURES W/O CC/MCC</td>\n",
              "      <td>14</td>\n",
              "      <td>$15131.85</td>\n",
              "      <td>$5787.57</td>\n",
              "      <td>$4976.71</td>\n",
              "    </tr>\n",
              "    <tr>\n",
              "      <th>2</th>\n",
              "      <td>039 - EXTRACRANIAL PROCEDURES W/O CC/MCC</td>\n",
              "      <td>24</td>\n",
              "      <td>$37560.37</td>\n",
              "      <td>$5434.95</td>\n",
              "      <td>$4453.79</td>\n",
              "    </tr>\n",
              "    <tr>\n",
              "      <th>3</th>\n",
              "      <td>039 - EXTRACRANIAL PROCEDURES W/O CC/MCC</td>\n",
              "      <td>25</td>\n",
              "      <td>$13998.28</td>\n",
              "      <td>$5417.56</td>\n",
              "      <td>$4129.16</td>\n",
              "    </tr>\n",
              "    <tr>\n",
              "      <th>4</th>\n",
              "      <td>039 - EXTRACRANIAL PROCEDURES W/O CC/MCC</td>\n",
              "      <td>18</td>\n",
              "      <td>$31633.27</td>\n",
              "      <td>$5658.33</td>\n",
              "      <td>$4851.44</td>\n",
              "    </tr>\n",
              "  </tbody>\n",
              "</table>\n",
              "</div>"
            ],
            "text/plain": [
              "                                Ocorrencias  ...  Total_sobre_medicacao\n",
              "0  039 - EXTRACRANIAL PROCEDURES W/O CC/MCC  ...               $4763.73\n",
              "1  039 - EXTRACRANIAL PROCEDURES W/O CC/MCC  ...               $4976.71\n",
              "2  039 - EXTRACRANIAL PROCEDURES W/O CC/MCC  ...               $4453.79\n",
              "3  039 - EXTRACRANIAL PROCEDURES W/O CC/MCC  ...               $4129.16\n",
              "4  039 - EXTRACRANIAL PROCEDURES W/O CC/MCC  ...               $4851.44\n",
              "\n",
              "[5 rows x 5 columns]"
            ]
          },
          "metadata": {},
          "execution_count": 9
        }
      ]
    },
    {
      "cell_type": "code",
      "metadata": {
        "id": "JU1pMjw4FlyQ"
      },
      "source": [
        "#Verificando se há valores nulos\n",
        "\n",
        "def valores_nulos(dataset):\n",
        "  total = dataset.isnull().sum().sort_values(ascending=False)\n",
        "  percent = dataset.isnull().sum()/dataset.isnull().count().sort_values(ascending=False)\n",
        "  missing_data = pd.concat([total, percent], axis=1, sort=False, keys=['total', 'percent'])\n",
        "  return missing_data"
      ],
      "execution_count": null,
      "outputs": []
    },
    {
      "cell_type": "code",
      "metadata": {
        "colab": {
          "base_uri": "https://localhost:8080/",
          "height": 206
        },
        "id": "kpQ6Z7FRHilu",
        "outputId": "5955a1a0-4cbb-4ddb-f697-ce3b2bf29164"
      },
      "source": [
        "valores_nulos(df)"
      ],
      "execution_count": null,
      "outputs": [
        {
          "output_type": "execute_result",
          "data": {
            "text/html": [
              "<div>\n",
              "<style scoped>\n",
              "    .dataframe tbody tr th:only-of-type {\n",
              "        vertical-align: middle;\n",
              "    }\n",
              "\n",
              "    .dataframe tbody tr th {\n",
              "        vertical-align: top;\n",
              "    }\n",
              "\n",
              "    .dataframe thead th {\n",
              "        text-align: right;\n",
              "    }\n",
              "</style>\n",
              "<table border=\"1\" class=\"dataframe\">\n",
              "  <thead>\n",
              "    <tr style=\"text-align: right;\">\n",
              "      <th></th>\n",
              "      <th>total</th>\n",
              "      <th>percent</th>\n",
              "    </tr>\n",
              "  </thead>\n",
              "  <tbody>\n",
              "    <tr>\n",
              "      <th>Total_sobre_medicacao</th>\n",
              "      <td>0</td>\n",
              "      <td>0.0</td>\n",
              "    </tr>\n",
              "    <tr>\n",
              "      <th>Total_de_pagamento</th>\n",
              "      <td>0</td>\n",
              "      <td>0.0</td>\n",
              "    </tr>\n",
              "    <tr>\n",
              "      <th>Encargos_medicos</th>\n",
              "      <td>0</td>\n",
              "      <td>0.0</td>\n",
              "    </tr>\n",
              "    <tr>\n",
              "      <th>Total_de_casos</th>\n",
              "      <td>0</td>\n",
              "      <td>0.0</td>\n",
              "    </tr>\n",
              "    <tr>\n",
              "      <th>Ocorrencias</th>\n",
              "      <td>0</td>\n",
              "      <td>0.0</td>\n",
              "    </tr>\n",
              "  </tbody>\n",
              "</table>\n",
              "</div>"
            ],
            "text/plain": [
              "                       total  percent\n",
              "Total_sobre_medicacao      0      0.0\n",
              "Total_de_pagamento         0      0.0\n",
              "Encargos_medicos           0      0.0\n",
              "Total_de_casos             0      0.0\n",
              "Ocorrencias                0      0.0"
            ]
          },
          "metadata": {},
          "execution_count": 11
        }
      ]
    },
    {
      "cell_type": "markdown",
      "metadata": {
        "id": "pcjpROOKMm8Z"
      },
      "source": [
        "Nas colunas referente aos preços existe, em todas as linhas das colunas, o caractere “$”, vamos tirar eles."
      ]
    },
    {
      "cell_type": "code",
      "metadata": {
        "id": "9PfnIhRjFDN-"
      },
      "source": [
        "# Retirando o caractere \"$\", ja que é o primeiro caractere que aparece em cada linha, fica mais facil tirar\n",
        "\n",
        "df['Encargos_medicos'] = df['Encargos_medicos'].apply(lambda x: x[1:])\n",
        "df['Total_de_pagamento'] = df['Total_de_pagamento'].apply(lambda x: x[1:])\n",
        "df['Total_sobre_medicacao'] = df['Total_sobre_medicacao'].apply(lambda x: x[1:])"
      ],
      "execution_count": null,
      "outputs": []
    },
    {
      "cell_type": "code",
      "metadata": {
        "id": "1ucuvsKUFeMO"
      },
      "source": [
        "# Mudando para valores numericos as mesmas colunas\n",
        "\n",
        "df['Encargos_medicos'] = pd.to_numeric(df['Encargos_medicos'])\n",
        "df['Total_de_pagamento'] = pd.to_numeric(df['Total_de_pagamento'])\n",
        "df['Total_sobre_medicacao'] = pd.to_numeric(df['Total_sobre_medicacao'])"
      ],
      "execution_count": null,
      "outputs": []
    },
    {
      "cell_type": "code",
      "metadata": {
        "colab": {
          "base_uri": "https://localhost:8080/",
          "height": 206
        },
        "id": "DMhqNJ7MFVxd",
        "outputId": "48d707c8-fad1-4fc6-be5c-1d6288e8733b"
      },
      "source": [
        "df.head()"
      ],
      "execution_count": null,
      "outputs": [
        {
          "output_type": "execute_result",
          "data": {
            "text/html": [
              "<div>\n",
              "<style scoped>\n",
              "    .dataframe tbody tr th:only-of-type {\n",
              "        vertical-align: middle;\n",
              "    }\n",
              "\n",
              "    .dataframe tbody tr th {\n",
              "        vertical-align: top;\n",
              "    }\n",
              "\n",
              "    .dataframe thead th {\n",
              "        text-align: right;\n",
              "    }\n",
              "</style>\n",
              "<table border=\"1\" class=\"dataframe\">\n",
              "  <thead>\n",
              "    <tr style=\"text-align: right;\">\n",
              "      <th></th>\n",
              "      <th>Ocorrencias</th>\n",
              "      <th>Total_de_casos</th>\n",
              "      <th>Encargos_medicos</th>\n",
              "      <th>Total_de_pagamento</th>\n",
              "      <th>Total_sobre_medicacao</th>\n",
              "    </tr>\n",
              "  </thead>\n",
              "  <tbody>\n",
              "    <tr>\n",
              "      <th>0</th>\n",
              "      <td>039 - EXTRACRANIAL PROCEDURES W/O CC/MCC</td>\n",
              "      <td>91</td>\n",
              "      <td>32963.07</td>\n",
              "      <td>5777.24</td>\n",
              "      <td>4763.73</td>\n",
              "    </tr>\n",
              "    <tr>\n",
              "      <th>1</th>\n",
              "      <td>039 - EXTRACRANIAL PROCEDURES W/O CC/MCC</td>\n",
              "      <td>14</td>\n",
              "      <td>15131.85</td>\n",
              "      <td>5787.57</td>\n",
              "      <td>4976.71</td>\n",
              "    </tr>\n",
              "    <tr>\n",
              "      <th>2</th>\n",
              "      <td>039 - EXTRACRANIAL PROCEDURES W/O CC/MCC</td>\n",
              "      <td>24</td>\n",
              "      <td>37560.37</td>\n",
              "      <td>5434.95</td>\n",
              "      <td>4453.79</td>\n",
              "    </tr>\n",
              "    <tr>\n",
              "      <th>3</th>\n",
              "      <td>039 - EXTRACRANIAL PROCEDURES W/O CC/MCC</td>\n",
              "      <td>25</td>\n",
              "      <td>13998.28</td>\n",
              "      <td>5417.56</td>\n",
              "      <td>4129.16</td>\n",
              "    </tr>\n",
              "    <tr>\n",
              "      <th>4</th>\n",
              "      <td>039 - EXTRACRANIAL PROCEDURES W/O CC/MCC</td>\n",
              "      <td>18</td>\n",
              "      <td>31633.27</td>\n",
              "      <td>5658.33</td>\n",
              "      <td>4851.44</td>\n",
              "    </tr>\n",
              "  </tbody>\n",
              "</table>\n",
              "</div>"
            ],
            "text/plain": [
              "                                Ocorrencias  ...  Total_sobre_medicacao\n",
              "0  039 - EXTRACRANIAL PROCEDURES W/O CC/MCC  ...                4763.73\n",
              "1  039 - EXTRACRANIAL PROCEDURES W/O CC/MCC  ...                4976.71\n",
              "2  039 - EXTRACRANIAL PROCEDURES W/O CC/MCC  ...                4453.79\n",
              "3  039 - EXTRACRANIAL PROCEDURES W/O CC/MCC  ...                4129.16\n",
              "4  039 - EXTRACRANIAL PROCEDURES W/O CC/MCC  ...                4851.44\n",
              "\n",
              "[5 rows x 5 columns]"
            ]
          },
          "metadata": {},
          "execution_count": 14
        }
      ]
    },
    {
      "cell_type": "markdown",
      "metadata": {
        "id": "nmQnqGwEENyv"
      },
      "source": [
        "A coluna mais importante para nós neste momento é a coluna “Ocorrências” onde mostra quais são as ocorrências que levaram os pacientes para o hospital, seguido das demais colunas levantam as despesas geral dentro do hospital"
      ]
    },
    {
      "cell_type": "code",
      "metadata": {
        "colab": {
          "base_uri": "https://localhost:8080/"
        },
        "id": "bkxBPzg_t4bo",
        "outputId": "9a5a0dbd-54bc-4b4b-c9bb-8836437b4c75"
      },
      "source": [
        "# Veridicando as condições.\n",
        "\n",
        "\n",
        "df['Ocorrencias'].unique()"
      ],
      "execution_count": null,
      "outputs": [
        {
          "output_type": "execute_result",
          "data": {
            "text/plain": [
              "array(['039 - EXTRACRANIAL PROCEDURES W/O CC/MCC',\n",
              "       '057 - DEGENERATIVE NERVOUS SYSTEM DISORDERS W/O MCC',\n",
              "       '069 - TRANSIENT ISCHEMIA',\n",
              "       '064 - INTRACRANIAL HEMORRHAGE OR CEREBRAL INFARCTION W MCC',\n",
              "       '065 - INTRACRANIAL HEMORRHAGE OR CEREBRAL INFARCTION W CC',\n",
              "       '066 - INTRACRANIAL HEMORRHAGE OR CEREBRAL INFARCTION W/O CC/MCC',\n",
              "       '074 - CRANIAL & PERIPHERAL NERVE DISORDERS W/O MCC',\n",
              "       '101 - SEIZURES W/O MCC', '149 - DYSEQUILIBRIUM',\n",
              "       '176 - PULMONARY EMBOLISM W/O MCC',\n",
              "       '177 - RESPIRATORY INFECTIONS & INFLAMMATIONS W MCC',\n",
              "       '189 - PULMONARY EDEMA & RESPIRATORY FAILURE',\n",
              "       '178 - RESPIRATORY INFECTIONS & INFLAMMATIONS W CC',\n",
              "       '190 - CHRONIC OBSTRUCTIVE PULMONARY DISEASE W MCC',\n",
              "       '191 - CHRONIC OBSTRUCTIVE PULMONARY DISEASE W CC',\n",
              "       '193 - SIMPLE PNEUMONIA & PLEURISY W MCC',\n",
              "       '194 - SIMPLE PNEUMONIA & PLEURISY W CC',\n",
              "       '192 - CHRONIC OBSTRUCTIVE PULMONARY DISEASE W/O CC/MCC',\n",
              "       '195 - SIMPLE PNEUMONIA & PLEURISY W/O CC/MCC',\n",
              "       '202 - BRONCHITIS & ASTHMA W CC/MCC',\n",
              "       '203 - BRONCHITIS & ASTHMA W/O CC/MCC',\n",
              "       '207 - RESPIRATORY SYSTEM DIAGNOSIS W VENTILATOR SUPPORT 96+ HOURS',\n",
              "       '238 - MAJOR CARDIOVASC PROCEDURES W/O MCC',\n",
              "       '252 - OTHER VASCULAR PROCEDURES W MCC',\n",
              "       '253 - OTHER VASCULAR PROCEDURES W CC',\n",
              "       '208 - RESPIRATORY SYSTEM DIAGNOSIS W VENTILATOR SUPPORT <96 HOURS',\n",
              "       '254 - OTHER VASCULAR PROCEDURES W/O CC/MCC',\n",
              "       '291 - HEART FAILURE & SHOCK W MCC',\n",
              "       '243 - PERMANENT CARDIAC PACEMAKER IMPLANT W CC',\n",
              "       '244 - PERMANENT CARDIAC PACEMAKER IMPLANT W/O CC/MCC',\n",
              "       '246 - PERC CARDIOVASC PROC W DRUG-ELUTING STENT W MCC OR 4+ VESSELS/STENTS',\n",
              "       '247 - PERC CARDIOVASC PROC W DRUG-ELUTING STENT W/O MCC',\n",
              "       '249 - PERC CARDIOVASC PROC W NON-DRUG-ELUTING STENT W/O MCC',\n",
              "       '251 - PERC CARDIOVASC PROC W/O CORONARY ARTERY STENT W/O MCC',\n",
              "       '280 - ACUTE MYOCARDIAL INFARCTION, DISCHARGED ALIVE W MCC',\n",
              "       '292 - HEART FAILURE & SHOCK W CC',\n",
              "       '281 - ACUTE MYOCARDIAL INFARCTION, DISCHARGED ALIVE W CC',\n",
              "       '282 - ACUTE MYOCARDIAL INFARCTION, DISCHARGED ALIVE W/O CC/MCC',\n",
              "       '286 - CIRCULATORY DISORDERS EXCEPT AMI, W CARD CATH W MCC',\n",
              "       '287 - CIRCULATORY DISORDERS EXCEPT AMI, W CARD CATH W/O MCC',\n",
              "       '293 - HEART FAILURE & SHOCK W/O CC/MCC',\n",
              "       '300 - PERIPHERAL VASCULAR DISORDERS W CC',\n",
              "       '301 - PERIPHERAL VASCULAR DISORDERS W/O CC/MCC',\n",
              "       '303 - ATHEROSCLEROSIS W/O MCC', '305 - HYPERTENSION W/O MCC',\n",
              "       '308 - CARDIAC ARRHYTHMIA & CONDUCTION DISORDERS W MCC',\n",
              "       '312 - SYNCOPE & COLLAPSE',\n",
              "       '309 - CARDIAC ARRHYTHMIA & CONDUCTION DISORDERS W CC',\n",
              "       '310 - CARDIAC ARRHYTHMIA & CONDUCTION DISORDERS W/O CC/MCC',\n",
              "       '313 - CHEST PAIN',\n",
              "       '314 - OTHER CIRCULATORY SYSTEM DIAGNOSES W MCC',\n",
              "       '315 - OTHER CIRCULATORY SYSTEM DIAGNOSES W CC',\n",
              "       '330 - MAJOR SMALL & LARGE BOWEL PROCEDURES W CC',\n",
              "       '377 - G.I. HEMORRHAGE W MCC',\n",
              "       '329 - MAJOR SMALL & LARGE BOWEL PROCEDURES W MCC',\n",
              "       '372 - MAJOR GASTROINTESTINAL DISORDERS & PERITONEAL INFECTIONS W CC',\n",
              "       '378 - G.I. HEMORRHAGE W CC', '379 - G.I. HEMORRHAGE W/O CC/MCC',\n",
              "       '389 - G.I. OBSTRUCTION W CC', '390 - G.I. OBSTRUCTION W/O CC/MCC',\n",
              "       '391 - ESOPHAGITIS, GASTROENT & MISC DIGEST DISORDERS W MCC',\n",
              "       '394 - OTHER DIGESTIVE SYSTEM DIAGNOSES W CC',\n",
              "       '439 - DISORDERS OF PANCREAS EXCEPT MALIGNANCY W CC',\n",
              "       '392 - ESOPHAGITIS, GASTROENT & MISC DIGEST DISORDERS W/O MCC',\n",
              "       '460 - SPINAL FUSION EXCEPT CERVICAL W/O MCC',\n",
              "       '473 - CERVICAL SPINAL FUSION W/O CC/MCC',\n",
              "       '418 - LAPAROSCOPIC CHOLECYSTECTOMY W/O C.D.E. W CC',\n",
              "       '419 - LAPAROSCOPIC CHOLECYSTECTOMY W/O C.D.E. W/O CC/MCC',\n",
              "       '469 - MAJOR JOINT REPLACEMENT OR REATTACHMENT OF LOWER EXTREMITY W MCC',\n",
              "       '470 - MAJOR JOINT REPLACEMENT OR REATTACHMENT OF LOWER EXTREMITY W/O MCC',\n",
              "       '480 - HIP & FEMUR PROCEDURES EXCEPT MAJOR JOINT W MCC',\n",
              "       '481 - HIP & FEMUR PROCEDURES EXCEPT MAJOR JOINT W CC',\n",
              "       '536 - FRACTURES OF HIP & PELVIS W/O MCC',\n",
              "       '482 - HIP & FEMUR PROCEDURES EXCEPT MAJOR JOINT W/O CC/MCC',\n",
              "       '552 - MEDICAL BACK PROBLEMS W/O MCC',\n",
              "       '491 - BACK & NECK PROC EXC SPINAL FUSION W/O CC/MCC',\n",
              "       '563 - FX, SPRN, STRN & DISL EXCEPT FEMUR, HIP, PELVIS & THIGH W/O MCC',\n",
              "       '602 - CELLULITIS W MCC', '603 - CELLULITIS W/O MCC',\n",
              "       '638 - DIABETES W CC',\n",
              "       '640 - MISC DISORDERS OF NUTRITION,METABOLISM,FLUIDS/ELECTROLYTES W MCC',\n",
              "       '682 - RENAL FAILURE W MCC',\n",
              "       '641 - MISC DISORDERS OF NUTRITION,METABOLISM,FLUIDS/ELECTROLYTES W/O MCC',\n",
              "       '683 - RENAL FAILURE W CC', '684 - RENAL FAILURE W/O CC/MCC',\n",
              "       '689 - KIDNEY & URINARY TRACT INFECTIONS W MCC',\n",
              "       '690 - KIDNEY & URINARY TRACT INFECTIONS W/O MCC',\n",
              "       '811 - RED BLOOD CELL DISORDERS W MCC',\n",
              "       '698 - OTHER KIDNEY & URINARY TRACT DIAGNOSES W MCC',\n",
              "       '699 - OTHER KIDNEY & URINARY TRACT DIAGNOSES W CC',\n",
              "       '812 - RED BLOOD CELL DISORDERS W/O MCC',\n",
              "       '853 - INFECTIOUS & PARASITIC DISEASES W O.R. PROCEDURE W MCC',\n",
              "       '885 - PSYCHOSES',\n",
              "       '870 - SEPTICEMIA OR SEVERE SEPSIS W MV 96+ HOURS',\n",
              "       '871 - SEPTICEMIA OR SEVERE SEPSIS W/O MV 96+ HOURS W MCC',\n",
              "       '872 - SEPTICEMIA OR SEVERE SEPSIS W/O MV 96+ HOURS W/O MCC',\n",
              "       '897 - ALCOHOL/DRUG ABUSE OR DEPENDENCE W/O REHABILITATION THERAPY W/O MCC',\n",
              "       '948 - SIGNS & SYMPTOMS W/O MCC',\n",
              "       '917 - POISONING & TOXIC EFFECTS OF DRUGS W MCC',\n",
              "       '918 - POISONING & TOXIC EFFECTS OF DRUGS W/O MCC'], dtype=object)"
            ]
          },
          "metadata": {},
          "execution_count": 15
        }
      ]
    },
    {
      "cell_type": "markdown",
      "metadata": {
        "id": "vs4w0Hm0Lt8-"
      },
      "source": [
        "Verificamos agora a quantidade de casos por cada condição para ver se existem uma grande disparidade de ocorrências entre eles."
      ]
    },
    {
      "cell_type": "code",
      "metadata": {
        "colab": {
          "base_uri": "https://localhost:8080/"
        },
        "id": "J0IgfqFfweMm",
        "outputId": "41326117-b192-4917-e762-130a3ddcdf2a"
      },
      "source": [
        "# verificando a quantidade de dados na coluna por cada condição.\n",
        "\n",
        "df['Ocorrencias'].value_counts()"
      ],
      "execution_count": null,
      "outputs": [
        {
          "output_type": "execute_result",
          "data": {
            "text/plain": [
              "194 - SIMPLE PNEUMONIA & PLEURISY W CC                                      3023\n",
              "690 - KIDNEY & URINARY TRACT INFECTIONS W/O MCC                             2989\n",
              "292 - HEART FAILURE & SHOCK W CC                                            2953\n",
              "392 - ESOPHAGITIS, GASTROENT & MISC DIGEST DISORDERS W/O MCC                2950\n",
              "641 - MISC DISORDERS OF NUTRITION,METABOLISM,FLUIDS/ELECTROLYTES W/O MCC    2899\n",
              "                                                                            ... \n",
              "315 - OTHER CIRCULATORY SYSTEM DIAGNOSES W CC                                859\n",
              "473 - CERVICAL SPINAL FUSION W/O CC/MCC                                      846\n",
              "917 - POISONING & TOXIC EFFECTS OF DRUGS W MCC                               843\n",
              "251 - PERC CARDIOVASC PROC W/O CORONARY ARTERY STENT W/O MCC                 727\n",
              "885 - PSYCHOSES                                                              613\n",
              "Name: Ocorrencias, Length: 100, dtype: int64"
            ]
          },
          "metadata": {},
          "execution_count": 16
        }
      ]
    },
    {
      "cell_type": "markdown",
      "metadata": {
        "id": "qKW_l4YYNCuM"
      },
      "source": [
        "##### Existem diferenças significativas entre elas de ocorrências de casos em hospitais, é perceptível que ocorrem um caso a mais que outros. Vamos então verificar quais desses casos são os que estamos procurando."
      ]
    },
    {
      "cell_type": "markdown",
      "metadata": {
        "id": "hOGkuLJOJRCq"
      },
      "source": [
        "##### Apesar das condições serem inúmeras, temos que analisá-las uma por uma pra ver quais representam uma chance real de se utilizar próteses.\n",
        "\n",
        "##### Para conseguir analisa-las, a minha parceira neste projeto, a professora Barbara Livia da Silva, comparou todos as ocorrências para verificar quais delas podem indicar que o paciente precise utilizar uma prótese dependendo da seriedade em que a ocorrência tenha acontecido, para este estudos vamos considerar todos os casos, ao mesmo tempo deixa em evidencia que são possíveis casos de utilização de próteses, pois cada caso é diferente do outro. Depois da verificação, estes são as ocorrências especificas que se enquadram em nosso estudo:\n",
        "\n",
        "\n",
        "\n"
      ]
    },
    {
      "cell_type": "markdown",
      "metadata": {
        "id": "nTix7V4RLIKa"
      },
      "source": [
        "#####'460 - SPINAL FUSION EXCEPT CERVICAL W/O MCC'\n",
        "#####'473 - CERVICAL SPINAL FUSION W/O CC/MCC'\n",
        "#####'469 - MAJOR JOINT REPLACEMENT OR REATTACHMENT OF LOWER EXTREMITY W CC'\n",
        "#####'470 - MAJOR JOINT REPLACEMENT OR REATTACHMENT OF LOWER EXTREMITY W/O MCC'\n",
        "#####'480 - HIP & FEMUR PROCEDURES EXCEPT MAJOR JOINT W MCC'\n",
        "#####'481 - HIP & FEMUR PROCEDURES EXCEPT MAJOR JOINT W CC'\n",
        "#####'536 - FRACTURES OF HIP & PELVIS W/O MCC'\n",
        "#####'482 - HIP & FEMUR PROCEDURES EXCEPT MAJOR JOINT W/O CC/MCC'\n",
        "#####'552 - MEDICAL BACK PROBLEMS W/O MCC'\n",
        "#####'491 - BACK & NECK PROC EXC SPINAL FUSION W/O CC/MCC'\n",
        "#####'563 - FX, SPRN, STRN & DISL EXCEPT FEMUR, HIP, PELVIS & THIGH W/O MCC'"
      ]
    },
    {
      "cell_type": "markdown",
      "metadata": {
        "id": "7J81vyv2MT1u"
      },
      "source": [
        "Mas antes, precisamos ainda fazer algumas mudanças no dataset para conseguir fazer as devidas relações entre os dados."
      ]
    },
    {
      "cell_type": "code",
      "metadata": {
        "id": "_NKZpG7WPCms"
      },
      "source": [
        "# vamos somar a quantidade de casos com suas condições\n",
        "\n",
        "df_por_condicoes = df.groupby('Ocorrencias').sum()"
      ],
      "execution_count": null,
      "outputs": []
    },
    {
      "cell_type": "code",
      "metadata": {
        "colab": {
          "base_uri": "https://localhost:8080/",
          "height": 238
        },
        "id": "oWux3iPqL3KJ",
        "outputId": "8684a3d8-ef2b-4cf8-b567-1d2b79b51e4a"
      },
      "source": [
        "#por causa deste comando, a coluna 'Condicoes' se tornou o index\n",
        "\n",
        "df_por_condicoes.head()"
      ],
      "execution_count": null,
      "outputs": [
        {
          "output_type": "execute_result",
          "data": {
            "text/html": [
              "<div>\n",
              "<style scoped>\n",
              "    .dataframe tbody tr th:only-of-type {\n",
              "        vertical-align: middle;\n",
              "    }\n",
              "\n",
              "    .dataframe tbody tr th {\n",
              "        vertical-align: top;\n",
              "    }\n",
              "\n",
              "    .dataframe thead th {\n",
              "        text-align: right;\n",
              "    }\n",
              "</style>\n",
              "<table border=\"1\" class=\"dataframe\">\n",
              "  <thead>\n",
              "    <tr style=\"text-align: right;\">\n",
              "      <th></th>\n",
              "      <th>Total_de_casos</th>\n",
              "      <th>Encargos_medicos</th>\n",
              "      <th>Total_de_pagamento</th>\n",
              "      <th>Total_sobre_medicacao</th>\n",
              "    </tr>\n",
              "    <tr>\n",
              "      <th>Ocorrencias</th>\n",
              "      <th></th>\n",
              "      <th></th>\n",
              "      <th></th>\n",
              "      <th></th>\n",
              "    </tr>\n",
              "  </thead>\n",
              "  <tbody>\n",
              "    <tr>\n",
              "      <th>039 - EXTRACRANIAL PROCEDURES W/O CC/MCC</th>\n",
              "      <td>33606</td>\n",
              "      <td>32890061.73</td>\n",
              "      <td>7510416.19</td>\n",
              "      <td>5994748.69</td>\n",
              "    </tr>\n",
              "    <tr>\n",
              "      <th>057 - DEGENERATIVE NERVOUS SYSTEM DISORDERS W/O MCC</th>\n",
              "      <td>30212</td>\n",
              "      <td>29193618.04</td>\n",
              "      <td>8054238.01</td>\n",
              "      <td>6847713.56</td>\n",
              "    </tr>\n",
              "    <tr>\n",
              "      <th>064 - INTRACRANIAL HEMORRHAGE OR CEREBRAL INFARCTION W MCC</th>\n",
              "      <td>62093</td>\n",
              "      <td>80548778.68</td>\n",
              "      <td>22004682.41</td>\n",
              "      <td>20095217.23</td>\n",
              "    </tr>\n",
              "    <tr>\n",
              "      <th>065 - INTRACRANIAL HEMORRHAGE OR CEREBRAL INFARCTION W CC</th>\n",
              "      <td>106414</td>\n",
              "      <td>66917621.80</td>\n",
              "      <td>17976540.82</td>\n",
              "      <td>15387227.55</td>\n",
              "    </tr>\n",
              "    <tr>\n",
              "      <th>066 - INTRACRANIAL HEMORRHAGE OR CEREBRAL INFARCTION W/O CC/MCC</th>\n",
              "      <td>55849</td>\n",
              "      <td>42608822.01</td>\n",
              "      <td>10319457.31</td>\n",
              "      <td>8071381.63</td>\n",
              "    </tr>\n",
              "  </tbody>\n",
              "</table>\n",
              "</div>"
            ],
            "text/plain": [
              "                                                    Total_de_casos  ...  Total_sobre_medicacao\n",
              "Ocorrencias                                                         ...                       \n",
              "039 - EXTRACRANIAL PROCEDURES W/O CC/MCC                     33606  ...             5994748.69\n",
              "057 - DEGENERATIVE NERVOUS SYSTEM DISORDERS W/O...           30212  ...             6847713.56\n",
              "064 - INTRACRANIAL HEMORRHAGE OR CEREBRAL INFAR...           62093  ...            20095217.23\n",
              "065 - INTRACRANIAL HEMORRHAGE OR CEREBRAL INFAR...          106414  ...            15387227.55\n",
              "066 - INTRACRANIAL HEMORRHAGE OR CEREBRAL INFAR...           55849  ...             8071381.63\n",
              "\n",
              "[5 rows x 4 columns]"
            ]
          },
          "metadata": {},
          "execution_count": 18
        }
      ]
    },
    {
      "cell_type": "markdown",
      "metadata": {
        "id": "a2PFbwr2yVnQ"
      },
      "source": [
        "Agora com este dataset novo, tendo em suas colunas as condições e quantidade de ocorrências, podemos traçar os diferentes casos com os que queremos encontrar."
      ]
    },
    {
      "cell_type": "code",
      "metadata": {
        "colab": {
          "base_uri": "https://localhost:8080/"
        },
        "id": "7DheR_aEONrP",
        "outputId": "6376fbe1-e406-43ac-d434-0b17c6d984dd"
      },
      "source": [
        "df_por_condicoes.info()"
      ],
      "execution_count": null,
      "outputs": [
        {
          "output_type": "stream",
          "name": "stdout",
          "text": [
            "<class 'pandas.core.frame.DataFrame'>\n",
            "Index: 100 entries, 039 - EXTRACRANIAL PROCEDURES W/O CC/MCC to 948 - SIGNS & SYMPTOMS W/O MCC\n",
            "Data columns (total 4 columns):\n",
            " #   Column                 Non-Null Count  Dtype  \n",
            "---  ------                 --------------  -----  \n",
            " 0   Total_de_casos         100 non-null    int64  \n",
            " 1   Encargos_medicos       100 non-null    float64\n",
            " 2   Total_de_pagamento     100 non-null    float64\n",
            " 3   Total_sobre_medicacao  100 non-null    float64\n",
            "dtypes: float64(3), int64(1)\n",
            "memory usage: 3.9+ KB\n"
          ]
        }
      ]
    },
    {
      "cell_type": "markdown",
      "metadata": {
        "id": "KTCFFi2GzzPL"
      },
      "source": [
        "Agora, vamos pegar os casos específicos que separamos anteriormente, são estes casos que entram em nosso projeto e que precisamos traçar um paralelo com o total, afim de saber a porcentagem em relação a quantidade de ocorrências.\n"
      ]
    },
    {
      "cell_type": "markdown",
      "metadata": {
        "id": "x_GR381BA8sX"
      },
      "source": [
        "Para isso, primeiramente, vamos criar uma lista com estes casos, e depois vamos criar mais uma coluna \"condicoes_selecionadas\", e, utilizando a lista, iremos nomear quem esta na lista como uma variável “True” e os demais como “False”"
      ]
    },
    {
      "cell_type": "code",
      "metadata": {
        "id": "zBlUeHlXJTTp"
      },
      "source": [
        "#fazendo uma lista das condições especificas que podem precisar utilizar proteses.\n",
        "\n",
        "\n",
        "lista = ['460 - SPINAL FUSION EXCEPT CERVICAL W/O MCC',\n",
        "         '473 - CERVICAL SPINAL FUSION W/O CC/MCC', \n",
        "         '469 - MAJOR JOINT REPLACEMENT OR REATTACHMENT OF LOWER EXTREMITY W MCC',\n",
        "         '470 - MAJOR JOINT REPLACEMENT OR REATTACHMENT OF LOWER EXTREMITY W/O MCC',\n",
        "         '480 - HIP & FEMUR PROCEDURES EXCEPT MAJOR JOINT W MCC',\n",
        "         '481 - HIP & FEMUR PROCEDURES EXCEPT MAJOR JOINT W CC',\n",
        "         '536 - FRACTURES OF HIP & PELVIS W/O MCC',\n",
        "         '482 - HIP & FEMUR PROCEDURES EXCEPT MAJOR JOINT W/O CC/MCC',\n",
        "         '552 - MEDICAL BACK PROBLEMS W/O MCC',\n",
        "         '491 - BACK & NECK PROC EXC SPINAL FUSION W/O CC/MCC',\n",
        "         '563 - FX, SPRN, STRN & DISL EXCEPT FEMUR, HIP, PELVIS & THIGH W/O MCC'\n",
        "         ]"
      ],
      "execution_count": null,
      "outputs": []
    },
    {
      "cell_type": "code",
      "metadata": {
        "colab": {
          "base_uri": "https://localhost:8080/"
        },
        "id": "ck_n4z9m4I1E",
        "outputId": "4a1cac6b-5e74-4235-a4f8-d0aa861441e1"
      },
      "source": [
        "#criando uma coluna para representar quais são as condições especificas\n",
        "\n",
        "df_por_condicoes.loc[df_por_condicoes.index.isin(lista), 'condicoes_selecionadas'] = True\n",
        "df_por_condicoes.condicoes_selecionadas.fillna(False)"
      ],
      "execution_count": null,
      "outputs": [
        {
          "output_type": "execute_result",
          "data": {
            "text/plain": [
              "Ocorrencias\n",
              "039 - EXTRACRANIAL PROCEDURES W/O CC/MCC                                     False\n",
              "057 - DEGENERATIVE NERVOUS SYSTEM DISORDERS W/O MCC                          False\n",
              "064 - INTRACRANIAL HEMORRHAGE OR CEREBRAL INFARCTION W MCC                   False\n",
              "065 - INTRACRANIAL HEMORRHAGE OR CEREBRAL INFARCTION W CC                    False\n",
              "066 - INTRACRANIAL HEMORRHAGE OR CEREBRAL INFARCTION W/O CC/MCC              False\n",
              "                                                                             ...  \n",
              "885 - PSYCHOSES                                                              False\n",
              "897 - ALCOHOL/DRUG ABUSE OR DEPENDENCE W/O REHABILITATION THERAPY W/O MCC    False\n",
              "917 - POISONING & TOXIC EFFECTS OF DRUGS W MCC                               False\n",
              "918 - POISONING & TOXIC EFFECTS OF DRUGS W/O MCC                             False\n",
              "948 - SIGNS & SYMPTOMS W/O MCC                                               False\n",
              "Name: condicoes_selecionadas, Length: 100, dtype: bool"
            ]
          },
          "metadata": {},
          "execution_count": 21
        }
      ]
    },
    {
      "cell_type": "code",
      "metadata": {
        "colab": {
          "base_uri": "https://localhost:8080/",
          "height": 307
        },
        "id": "nXUxLwk359u7",
        "outputId": "e42ef247-d195-4aca-f8b5-23ae73c266df"
      },
      "source": [
        "df_por_condicoes.head()"
      ],
      "execution_count": null,
      "outputs": [
        {
          "output_type": "execute_result",
          "data": {
            "text/html": [
              "<div>\n",
              "<style scoped>\n",
              "    .dataframe tbody tr th:only-of-type {\n",
              "        vertical-align: middle;\n",
              "    }\n",
              "\n",
              "    .dataframe tbody tr th {\n",
              "        vertical-align: top;\n",
              "    }\n",
              "\n",
              "    .dataframe thead th {\n",
              "        text-align: right;\n",
              "    }\n",
              "</style>\n",
              "<table border=\"1\" class=\"dataframe\">\n",
              "  <thead>\n",
              "    <tr style=\"text-align: right;\">\n",
              "      <th></th>\n",
              "      <th>Total_de_casos</th>\n",
              "      <th>Encargos_medicos</th>\n",
              "      <th>Total_de_pagamento</th>\n",
              "      <th>Total_sobre_medicacao</th>\n",
              "      <th>condicoes_selecionadas</th>\n",
              "    </tr>\n",
              "    <tr>\n",
              "      <th>Ocorrencias</th>\n",
              "      <th></th>\n",
              "      <th></th>\n",
              "      <th></th>\n",
              "      <th></th>\n",
              "      <th></th>\n",
              "    </tr>\n",
              "  </thead>\n",
              "  <tbody>\n",
              "    <tr>\n",
              "      <th>039 - EXTRACRANIAL PROCEDURES W/O CC/MCC</th>\n",
              "      <td>33606</td>\n",
              "      <td>32890061.73</td>\n",
              "      <td>7510416.19</td>\n",
              "      <td>5994748.69</td>\n",
              "      <td>NaN</td>\n",
              "    </tr>\n",
              "    <tr>\n",
              "      <th>057 - DEGENERATIVE NERVOUS SYSTEM DISORDERS W/O MCC</th>\n",
              "      <td>30212</td>\n",
              "      <td>29193618.04</td>\n",
              "      <td>8054238.01</td>\n",
              "      <td>6847713.56</td>\n",
              "      <td>NaN</td>\n",
              "    </tr>\n",
              "    <tr>\n",
              "      <th>064 - INTRACRANIAL HEMORRHAGE OR CEREBRAL INFARCTION W MCC</th>\n",
              "      <td>62093</td>\n",
              "      <td>80548778.68</td>\n",
              "      <td>22004682.41</td>\n",
              "      <td>20095217.23</td>\n",
              "      <td>NaN</td>\n",
              "    </tr>\n",
              "    <tr>\n",
              "      <th>065 - INTRACRANIAL HEMORRHAGE OR CEREBRAL INFARCTION W CC</th>\n",
              "      <td>106414</td>\n",
              "      <td>66917621.80</td>\n",
              "      <td>17976540.82</td>\n",
              "      <td>15387227.55</td>\n",
              "      <td>NaN</td>\n",
              "    </tr>\n",
              "    <tr>\n",
              "      <th>066 - INTRACRANIAL HEMORRHAGE OR CEREBRAL INFARCTION W/O CC/MCC</th>\n",
              "      <td>55849</td>\n",
              "      <td>42608822.01</td>\n",
              "      <td>10319457.31</td>\n",
              "      <td>8071381.63</td>\n",
              "      <td>NaN</td>\n",
              "    </tr>\n",
              "  </tbody>\n",
              "</table>\n",
              "</div>"
            ],
            "text/plain": [
              "                                                    Total_de_casos  ...  condicoes_selecionadas\n",
              "Ocorrencias                                                         ...                        \n",
              "039 - EXTRACRANIAL PROCEDURES W/O CC/MCC                     33606  ...                     NaN\n",
              "057 - DEGENERATIVE NERVOUS SYSTEM DISORDERS W/O...           30212  ...                     NaN\n",
              "064 - INTRACRANIAL HEMORRHAGE OR CEREBRAL INFAR...           62093  ...                     NaN\n",
              "065 - INTRACRANIAL HEMORRHAGE OR CEREBRAL INFAR...          106414  ...                     NaN\n",
              "066 - INTRACRANIAL HEMORRHAGE OR CEREBRAL INFAR...           55849  ...                     NaN\n",
              "\n",
              "[5 rows x 5 columns]"
            ]
          },
          "metadata": {},
          "execution_count": 22
        }
      ]
    },
    {
      "cell_type": "markdown",
      "metadata": {
        "id": "7vnPECNHB7K_"
      },
      "source": [
        "Por fim, utilizando o sum() em relação a última coluna selecionada, conseguimos distinguir quem esta na lista e quem não está, gerando a soma da quantidade de cada uma por suas colunas. Observando então na coluna “Total_de_casos\" e que vemos o valor total de ocorrência de cada lado."
      ]
    },
    {
      "cell_type": "code",
      "metadata": {
        "colab": {
          "base_uri": "https://localhost:8080/",
          "height": 143
        },
        "id": "I7tT0QQpgiGG",
        "outputId": "ea60b230-8e4e-4d86-a867-e206974c4215"
      },
      "source": [
        "#definindo em duas linhas os valores em quantidade de potencias utilizações de proteses e não utilização\n",
        "\n",
        "df_protese = df_por_condicoes.groupby('condicoes_selecionadas', dropna=False).sum()\n",
        "df_protese"
      ],
      "execution_count": null,
      "outputs": [
        {
          "output_type": "execute_result",
          "data": {
            "text/html": [
              "<div>\n",
              "<style scoped>\n",
              "    .dataframe tbody tr th:only-of-type {\n",
              "        vertical-align: middle;\n",
              "    }\n",
              "\n",
              "    .dataframe tbody tr th {\n",
              "        vertical-align: top;\n",
              "    }\n",
              "\n",
              "    .dataframe thead th {\n",
              "        text-align: right;\n",
              "    }\n",
              "</style>\n",
              "<table border=\"1\" class=\"dataframe\">\n",
              "  <thead>\n",
              "    <tr style=\"text-align: right;\">\n",
              "      <th></th>\n",
              "      <th>Total_de_casos</th>\n",
              "      <th>Encargos_medicos</th>\n",
              "      <th>Total_de_pagamento</th>\n",
              "      <th>Total_sobre_medicacao</th>\n",
              "    </tr>\n",
              "    <tr>\n",
              "      <th>condicoes_selecionadas</th>\n",
              "      <th></th>\n",
              "      <th></th>\n",
              "      <th></th>\n",
              "      <th></th>\n",
              "    </tr>\n",
              "  </thead>\n",
              "  <tbody>\n",
              "    <tr>\n",
              "      <th>True</th>\n",
              "      <td>792568</td>\n",
              "      <td>7.159261e+08</td>\n",
              "      <td>1.949422e+08</td>\n",
              "      <td>1.693369e+08</td>\n",
              "    </tr>\n",
              "    <tr>\n",
              "      <th>NaN</th>\n",
              "      <td>6182750</td>\n",
              "      <td>5.176257e+09</td>\n",
              "      <td>1.388007e+09</td>\n",
              "      <td>1.215817e+09</td>\n",
              "    </tr>\n",
              "  </tbody>\n",
              "</table>\n",
              "</div>"
            ],
            "text/plain": [
              "                        Total_de_casos  ...  Total_sobre_medicacao\n",
              "condicoes_selecionadas                  ...                       \n",
              "True                            792568  ...           1.693369e+08\n",
              "NaN                            6182750  ...           1.215817e+09\n",
              "\n",
              "[2 rows x 4 columns]"
            ]
          },
          "metadata": {},
          "execution_count": 23
        }
      ]
    },
    {
      "cell_type": "markdown",
      "metadata": {
        "id": "FAxLp85tQfiG"
      },
      "source": [
        "São este valores os mais importante para nós, pois conseguimos agora distinguir todo o dataset das ocorrências com possíveis utilização de próteses dos demais casos onde não se tem relação com uma possível utilização de próteses"
      ]
    },
    {
      "cell_type": "code",
      "metadata": {
        "colab": {
          "base_uri": "https://localhost:8080/"
        },
        "id": "MlNCwiApPMGD",
        "outputId": "9cb22e76-ea9d-45e7-db1a-96d3840ff060"
      },
      "source": [
        "# Verificando a quantidade de casos para quem esta dentro da lista e resto\n",
        "\n",
        "print('Quantidade de casos que não se enquadrão em uma possivel utilização de protese é:', df_protese['Total_de_casos'].values[1])\n",
        "print('Quantidade de casos que se enquadrão em uma possivel utilização de protese é:',  df_protese['Total_de_casos'].values[0])\n"
      ],
      "execution_count": null,
      "outputs": [
        {
          "output_type": "stream",
          "name": "stdout",
          "text": [
            "Quantidade de casos que não se enquadrão em uma possivel utilização de protese é: 6182750\n",
            "Quantidade de casos que se enquadrão em uma possivel utilização de protese é: 792568\n"
          ]
        }
      ]
    },
    {
      "cell_type": "code",
      "metadata": {
        "colab": {
          "base_uri": "https://localhost:8080/"
        },
        "id": "YNNz2Yw6HBzp",
        "outputId": "6d3df8f0-fdfb-4542-bccc-f8369b9ab89c"
      },
      "source": [
        "print(\"Encargos Médicos = True: \"+str(round(df_protese['Encargos_medicos'][0],2)))\n",
        "print(\"Encargos Médicos = NaN: \"+str(round(df_protese['Encargos_medicos'][1],2)))"
      ],
      "execution_count": null,
      "outputs": [
        {
          "output_type": "stream",
          "name": "stdout",
          "text": [
            "Encargos Médicos = True: 715926057.86\n",
            "Encargos Médicos = NaN: 5176257187.74\n"
          ]
        }
      ]
    },
    {
      "cell_type": "code",
      "metadata": {
        "colab": {
          "base_uri": "https://localhost:8080/"
        },
        "id": "oIw-Nj_lHEME",
        "outputId": "86abeddf-3bf4-497b-8188-230cda4fb578"
      },
      "source": [
        "print(\"Total do Pagamento = True: \"+str(round(df_protese['Total_de_pagamento'][0],2)))\n",
        "print(\"Total do Pagamento = NaN: \"+str(round(df_protese['Total_de_pagamento'][1],2)))"
      ],
      "execution_count": null,
      "outputs": [
        {
          "output_type": "stream",
          "name": "stdout",
          "text": [
            "Total do Pagamento = True: 194942226.89\n",
            "Total do Pagamento = NaN: 1388006988.99\n"
          ]
        }
      ]
    },
    {
      "cell_type": "code",
      "metadata": {
        "colab": {
          "base_uri": "https://localhost:8080/"
        },
        "id": "9W1OOhy4HPdf",
        "outputId": "a807c83f-7e21-4a34-a518-9c8d8a088025"
      },
      "source": [
        "print(\"Total sobre o valor do Medicamento = True: \"+str(round(df_protese['Total_sobre_medicacao'][0],2)))\n",
        "print(\"Total sobre o valor do Medicamento = NaN: \"+str(round(df_protese['Total_sobre_medicacao'][1],2)))"
      ],
      "execution_count": null,
      "outputs": [
        {
          "output_type": "stream",
          "name": "stdout",
          "text": [
            "Total sobre o valor do Medicamento = True: 169336869.79\n",
            "Total sobre o valor do Medicamento = NaN: 1215817299.26\n"
          ]
        }
      ]
    },
    {
      "cell_type": "markdown",
      "metadata": {
        "id": "q0Kwuq-sD3QO"
      },
      "source": [
        "Vamos então calcular a porcentagem de casos que pode ser necessário a utilização de próteses em relação ao total."
      ]
    },
    {
      "cell_type": "code",
      "metadata": {
        "id": "xJOMT35cPNe2"
      },
      "source": [
        "#calculando a porcentagem de potencias utilização de proteses no total de casos, para isso vamos criar uma função para ser mais rapido\n",
        "\n",
        "def porcentagem(valor_com_protese, valor_sem_protese):\n",
        "  protese = valor_com_protese\n",
        "  n_protese = valor_sem_protese\n",
        "  total_de_casos_no_hospital = protese + n_protese\n",
        "\n",
        "  protese_porcentagem = (protese / total_de_casos_no_hospital) * 100\n",
        "  return protese_porcentagem"
      ],
      "execution_count": null,
      "outputs": []
    },
    {
      "cell_type": "code",
      "metadata": {
        "colab": {
          "base_uri": "https://localhost:8080/"
        },
        "id": "2ZFhvyWGPP93",
        "outputId": "01d92b85-34c4-4306-d7cf-6162c732a933"
      },
      "source": [
        "print(\"porcentagem de casos com possiveis uso de protese é: \" + \"%.0f%%\" % porcentagem(792568,6182750))\n",
        "print(\"Encargos medicos de casos com possiveis uso de protese é: \" + \"%.0f%%\" % porcentagem(715926057.86,5176257187.74))\n",
        "print(\"Média de pagamentos de casos com possiveis uso de protese é: \" + \"%.0f%%\" % porcentagem(194942226.89,1388006988.99))\n",
        "print(\"Média de pagamentos sobre medicamentos de casos com possiveis uso de protese é: \" + \"%.0f%%\" % porcentagem(169336869.79,1215817299.26))"
      ],
      "execution_count": null,
      "outputs": [
        {
          "output_type": "stream",
          "name": "stdout",
          "text": [
            "porcentagem de casos com possiveis uso de protese é: 11%\n",
            "Encargos medicos de casos com possiveis uso de protese é: 12%\n",
            "Média de pagamentos de casos com possiveis uso de protese é: 12%\n",
            "Média de pagamentos sobre medicamentos de casos com possiveis uso de protese é: 12%\n"
          ]
        }
      ]
    },
    {
      "cell_type": "markdown",
      "metadata": {
        "id": "b6X3ueNCEKAW"
      },
      "source": [
        "Com isto, chegamos ao valor esperado. Como vemos, os casos de ocorrência em que a pessoa talvez tenha que utilizar uma próteses chega a 11% em relação ao total de casos que ocorrem em um hospital, apesar deste valor parecer pequeno, é um número significativo na vida dessas pessoas que possivelmente precisarão precisar de um cuidado maior, pelo resto de suas vidas, não so na questão de saúde mas como depender de condições externas para ter uma vida “normal”. Diferente de ocorrências onde a pessoa sai do hospital e voltar a ter uma vida normal, a vida para essas pessoas nunca mais será a mesma, tanto em questões de saúde, como questões financeiras e sociais, pois, diferente dos demais casos, estes saem do hospital com mais preocupações e responsabilidade do que todos os outros."
      ]
    },
    {
      "cell_type": "code",
      "metadata": {
        "id": "M-UPLxUAle2e"
      },
      "source": [
        ""
      ],
      "execution_count": null,
      "outputs": []
    }
  ]
}